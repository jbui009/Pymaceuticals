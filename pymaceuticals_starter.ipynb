{
 "cells": [
  {
   "cell_type": "markdown",
   "metadata": {},
   "source": [
    "## Observations and Insights "
   ]
  },
  {
   "cell_type": "markdown",
   "metadata": {},
   "source": []
  },
  {
   "cell_type": "code",
   "execution_count": 1,
   "metadata": {},
   "outputs": [],
   "source": [
    "# Dependencies and Setup\n",
    "import matplotlib.pyplot as plt\n",
    "import pandas as pd\n",
    "import scipy.stats as st\n",
    "\n",
    "# Study data files\n",
    "mouse_metadata_path = \"data/Mouse_metadata.csv\"\n",
    "study_results_path = \"data/Study_results.csv\"\n",
    "\n",
    "# Read the mouse data and the study results\n",
    "mouse_metadata = pd.read_csv(mouse_metadata_path)\n",
    "study_results = pd.read_csv(study_results_path)\n",
    "\n",
    "# Combine the data into a single dataset\n",
    "combined_data = pd.merge(mouse_metadata, study_results, on='Mouse ID', how='outer'))\n",
    "# Display the data table for preview\n",
    "combined_data"
   ]
  },
  {
   "cell_type": "code",
   "execution_count": 2,
   "metadata": {},
   "outputs": [],
   "source": [
    "# Checking the number of mice.\n",
    "mouse_count = len(study_results[\"Mouse ID\"].unique())\n",
    "mouse_count"
   ]
  },
  {
   "cell_type": "code",
   "execution_count": 3,
   "metadata": {},
   "outputs": [],
   "source": [
    "# Getting the duplicate mice by ID number that shows up for Mouse ID and Timepoint. \n",
    "\n",
    "duplicate_mouse_data = combined_data[combined_data.duplicated(subset = [\"Mouse ID\", \"Timepoint\"])]\n",
    "duplicate_mouse_data"
   ]
  },
  {
   "cell_type": "code",
   "execution_count": 4,
   "metadata": {},
   "outputs": [],
   "source": [
    "# Optional: Get all the data for the duplicate mouse ID. \n",
    "\n",
    "combined_data[combined_data[\"Mouse ID\" == \"g989\"]]"
   ]
  },
  {
   "cell_type": "code",
   "execution_count": 5,
   "metadata": {},
   "outputs": [],
   "source": [
    "# Create a clean DataFrame by dropping the duplicate mouse by its ID.\n",
    "sorted_data = combined_data.loc[combined_data[\"Mouse ID\"] != \"g989\"]\n",
    "sorted_data"
   ]
  },
  {
   "cell_type": "code",
   "execution_count": 6,
   "metadata": {},
   "outputs": [],
   "source": [
    "# Checking the number of mice in the clean DataFrame.\n",
    "len(sorted_data[\"Mouse ID\"].unique())"
   ]
  },
  {
   "cell_type": "markdown",
   "metadata": {},
   "source": [
    "## Summary Statistics"
   ]
  },
  {
   "cell_type": "code",
   "execution_count": 7,
   "metadata": {},
   "outputs": [],
   "source": [
    "# Generate a summary statistics table of mean, median, variance, standard deviation, and SEM of the tumor volume for each regimen\n",
    "\n",
    "# Use groupby and summary statistical methods to calculate the following properties of each drug regimen: \n",
    "# mean, median, variance, standard deviation, and SEM of the tumor volume. \n",
    "# Assemble the resulting series into a single summary dataframe.\n",
    "summary_data = sorted_data.groupby(\"Drug Regimen\")[\"Tumor Volume (mm3)\"].describe()\n",
    "summary_data = summary_data[[\"mean\", \"std\"]]\n",
    "summary_data[\"var\"] =  sorted_data.groupby(\"Drug Regimen\")[\"Tumor Volume (mm3)\"].var()\n",
    "summary_data[\"median\"] =  sorted_data.groupby(\"Drug Regimen\")[\"Tumor Volume (mm3)\"].median()\n",
    "summary_data[\"sem\"] =  sorted_data.groupby(\"Drug Regimen\")[\"Tumor Volume (mm3)\"].sem()\n",
    "summary_data = summary_data[[\"mean\", \"median\",\"var\", \"std\",\"sem\"]]\n",
    "summary_data\n"
   ]
  },
  {
   "cell_type": "code",
   "execution_count": 8,
   "metadata": {},
   "outputs": [],
   "source": [
    "# Generate a summary statistics table of mean, median, variance, standard deviation, and SEM of the tumor volume for each regimen\n",
    "\n",
    "# Using the aggregation method, produce the same summary statistics in a single line\n",
    "aggregation_summary_df = summary_data.agg(['mean', 'median', 'var', 'std', 'sem'])\n",
    "aggregation_summary_df"
   ]
  },
  {
   "cell_type": "markdown",
   "metadata": {},
   "source": [
    "## Bar and Pie Charts"
   ]
  },
  {
   "cell_type": "code",
   "execution_count": 9,
   "metadata": {},
   "outputs": [],
   "source": [
    "# Generate a bar plot showing the total number of timepoints for all mice tested for each drug regimen using Pandas.\n",
    "\n",
    "all_drugs_df = sorted_data_df.groupby('Drug Regimen')['Tumor Volume (mm3)'].count()\n",
    "all_drugs_df\n",
    "drug_regimen_bar = all_drugs_df.plot(kind='bar', alpha= .50, color='Red')\n",
    "plt.ylabel(\"Number of Measurement\")\n",
    "plt.title(\"Total Number of Measurements per Regimen\")\n",
    "plt.show()"
   ]
  },
  {
   "cell_type": "code",
   "execution_count": 10,
   "metadata": {},
   "outputs": [],
   "source": [
    "# Generate a bar plot showing the total number of timepoints for all mice tested for each drug regimen using pyplot.\n",
    "x_axis = np.arange(len(regimen_group))\n",
    "tick_locations = [x *1.7 for x in x_axis]\n",
    "plt.bar(tick_locations, pandas_bar[\"Total Measurements\"], alpha = .5, align = \"center\", label = \"Total Measurements\")\n",
    "plt.xticks(tick_locations, regimen_group.index, rotation = \"vertical\")\n",
    "plt.xlabel(\"Drug Regimen\")\n",
    "plt.title(\"Total Number of Measurements per Regimen\")\n",
    "plt.ylabel(\"Number of Measurements\")\n",
    "plt.legend(loc = \"best\")\n",
    "plt.show()\n"
   ]
  },
  {
   "cell_type": "code",
   "execution_count": 11,
   "metadata": {},
   "outputs": [],
   "source": [
    "# Generate a pie plot showing the distribution of female versus male mice using Pandas\n",
    "\n",
    "gender_df = sorted_data_df.groupby('Sex')['Mouse ID'].nunique()\n",
    "gender_pie = pie_df.plot(kind='pie', y='Sex', title='Distribution of Female VS Male Mice', shadow=True)\n",
    "gender_df.plot(kind = \"pie\", y = \"Total\", title = \"Male Versus Female Distribution\",autopct=\"%1.1f%%\", shadow=True, startangle=140, colors = [\"blue\", \"red\"], legend = False)\n",
    "plt.show()"
   ]
  },
  {
   "cell_type": "code",
   "execution_count": 12,
   "metadata": {},
   "outputs": [],
   "source": [
    "# Generate a pie plot showing the distribution of female versus male mice using pyplot\n",
    "\n",
    "males = sex_df.loc[\"Male\", \"Total\"]\n",
    "females = sex_df.loc[\"Female\", \"Total\"]\n",
    "\n",
    "labels = sex_df.index\n",
    "colors = [\"purple\", \"gold\"]\n",
    "sizes = [females, males]\n",
    "plt.pie(sizes,labels=labels, colors = colors,\n",
    "      autopct=\"%1.1f%%\", shadow=True, startangle=140)"
   ]
  },
  {
   "cell_type": "markdown",
   "metadata": {},
   "source": [
    "## Quartiles, Outliers and Boxplots"
   ]
  },
  {
   "cell_type": "code",
   "execution_count": 13,
   "metadata": {},
   "outputs": [],
   "source": [
    "# Calculate the final tumor volume of each mouse across four of the treatment regimens:  \n",
    "# Capomulin, Ramicane, Infubinol, and Ceftamin\n",
    "# Start by getting the last (greatest) timepoint for each mouse\n",
    "regimen_df = sorted_data_df[(sorted_data_df[\"Drug Regimen\"] == \"Capomulin\") |\n",
    "                        (sorted_data_df[\"Drug Regimen\"] == \"Ramicane\")  |\n",
    "                        (sorted_data_df[\"Drug Regimen\"] == \"Infubinol\") |\n",
    "                        (sorted_data_df[\"Drug Regimen\"] == \"Ceftamin\")\n",
    "                       ]\n",
    "max_timepoint = regimen_df.groupby(\"Mouse ID\")[\"Timepoint\"].max()\n",
    "max_timepoint_df = pd.DataFrame(max_timepoint)\n",
    "# Merge this group df with the original dataframe to get the tumor volume at the last timepoint\n",
    "merged = pd.merge(copy_clean, final_four, on = [\"Timepoint\", \"Mouse ID\"])\n",
    "merged"
   ]
  },
  {
   "cell_type": "code",
   "execution_count": 14,
   "metadata": {},
   "outputs": [],
   "source": [
    "# Put treatments into a list for for loop (and later for plot labels)\n",
    "\n",
    "treatments = [\"Ramicane\", \"Capomulin\", \"Ceftamin\", \"Infubinol\"]\n",
    "# Create empty list to fill with tumor vol data (for plotting)\n",
    "treatment_list = {}\n",
    "\n",
    "# Calculate the IQR and quantitatively determine if there are any potential outliers. \n",
    "quartiles = merged[\"Tumor Volume (mm3)\"].quantile([.25,.50,.75])\n",
    "lowerq = quartiles[.25]\n",
    "upperq = quartiles[.75]\n",
    "IQR = upperq - lowerq\n",
    "\n",
    "print(f\"The lower quartile of Tumor Volume (mm3) is {lowerq}.\")\n",
    "print(f\"The upper quartile of Tumor Volume (mm3) is {upperq}.\")\n",
    "print(f\"The Interquartile range of Tumor Volume (mm3) is {IQR}.\")\n",
    "    \n",
    "    \n",
    "    # Locate the rows which contain mice on each drug and get the tumor volumes\n",
    "    for treatment in treatments:\n",
    "    for index, row in merged.iterrows():\n",
    "        if row[\"Drug Regimen\"] == treatment:\n",
    "            lists.setdefault(treatment, []).append(row[\"Tumor Volume (mm3)\"])\n",
    "frame= pd.DataFrame(lists)\n",
    "    \n",
    "    # add subset \n",
    "    \n",
    "    \n",
    "    # Determine outliers using upper and lower bounds\n",
    "    lower_bound = lowerq - (1.5*IQR)\n",
    "    upper_bound = upperq + (1.5*IQR)"
   ]
  },
  {
   "cell_type": "code",
   "execution_count": 15,
   "metadata": {},
   "outputs": [],
   "source": [
    "# Generate a box plot of the final tumor volume of each mouse across four regimens of interest\n",
    "plt.boxplot([frame[\"Ramicane\"], frame[\"Capomulin\"], frame[\"Ceftamin\"], frame[\"Infubinol\"]], labels = treatments, sym = \"b\")\n",
    "plt.title(\"Variability of Top 4 Drug Regiments\")"
   ]
  },
  {
   "cell_type": "markdown",
   "metadata": {},
   "source": [
    "## Line and Scatter Plots"
   ]
  },
  {
   "cell_type": "code",
   "execution_count": 16,
   "metadata": {},
   "outputs": [],
   "source": [
    "# Generate a line plot of tumor volume vs. time point for a mouse treated with Capomulin\n",
    "treated = sorted_data_df.loc[(sorted_data_df['Drug Regimen'] == 'Capomulin')].iloc[0]['Mouse ID']\n",
    "treated_data = sorted_data_df.loc[(sorted_data_df['Mouse ID'] == treated)]\n",
    "treated_data.plot(kind='line', x='Timepoint', y='Tumor Volume (mm3)')\n",
    "plt.show()"
   ]
  },
  {
   "cell_type": "code",
   "execution_count": 17,
   "metadata": {},
   "outputs": [],
   "source": [
    "# Generate a scatter plot of average tumor volume vs. mouse weight for the Capomulin regimen\n",
    "capomulin_data = sorted_data_df.loc[(sorted_data_df['Drug Regimen'] == 'Capomulin')]\n",
    "avg_volume_data = capomulin_data.groupby(\"Mouse ID\")[['Weight (g)', 'Tumor Volume (mm3)']].mean()\n",
    "avg_volume_data.plot(kind='scatter', x='Weight (g)', y='Tumor Volume (mm3)')\n",
    "plt.show()"
   ]
  },
  {
   "cell_type": "markdown",
   "metadata": {},
   "source": [
    "## Correlation and Regression"
   ]
  },
  {
   "cell_type": "code",
   "execution_count": 18,
   "metadata": {},
   "outputs": [],
   "source": [
    "# Calculate the correlation coefficient and linear regression model \n",
    "# for mouse weight and average tumor volume for the Capomulin regimen\n",
    "(slope, intercept, rvalue, pvalue, stderr) = st.linregress(avg_volume_data['Weight (g)'], avg_volume_data['Tumor Volume (mm3)'])\n",
    "regress_values = avg_volume_data['Weight (g)'] * slope + intercept\n",
    "line_eq = \"y = \" + str(round(slope,2)) + \"x + \" + str(round(intercept,2))\n",
    "avg_volume_data.plot(kind='scatter', x='Weight (g)', y='Tumor Volume (mm3)')\n",
    "plt.scatter(avg_volume_data['Weight (g)'], avg_volume_data['Tumor Volume (mm3)'])\n",
    "plt.plot(avg_volume_data['Weight (g)'],regress_values,\"r-\")\n",
    "plt.annotate(line_eq,(20,36),fontsize=16,color=\"red\")\n",
    "plt.xlabel('Weight (g)')\n",
    "plt.ylabel('Tumor Volume (mm3)')\n"
   ]
  },
  {
   "cell_type": "code",
   "execution_count": null,
   "metadata": {},
   "outputs": [],
   "source": [
    "correlation = st.pearsonr(avg_volume_data['Weight (g)'], avg_volume_data['Tumor Volume (mm3)'])"
   ]
  }
 ],
 "metadata": {
  "anaconda-cloud": {},
  "kernelspec": {
   "display_name": "Python 3",
   "language": "python",
   "name": "python3"
  },
  "language_info": {
   "codemirror_mode": {
    "name": "ipython",
    "version": 3
   },
   "file_extension": ".py",
   "mimetype": "text/x-python",
   "name": "python",
   "nbconvert_exporter": "python",
   "pygments_lexer": "ipython3",
   "version": "3.7.7"
  }
 },
 "nbformat": 4,
 "nbformat_minor": 4
}
